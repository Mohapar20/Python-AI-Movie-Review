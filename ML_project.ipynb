{
 "cells": [
  {
   "cell_type": "code",
   "execution_count": 1,
   "id": "9065fb00",
   "metadata": {},
   "outputs": [],
   "source": [
    "# Step 1: Dataset\n",
    "# First, you need to obtain a dataset of movie reviews with labeled sentiments. \n",
    "# Let's assume you're using the IMDB Movie Reviews dataset, which is available in the nltk library in Python. "
   ]
  },
  {
   "cell_type": "code",
   "execution_count": 2,
   "id": "be64d843",
   "metadata": {},
   "outputs": [],
   "source": [
    "# nltk.download('movie_reviews')\n",
    "# nltk.download('punkt')\n",
    "# nltk.download('stopwords')\n",
    "# These are datasets that you need to download for this project"
   ]
  },
  {
   "cell_type": "code",
   "execution_count": 3,
   "id": "b2166ea8",
   "metadata": {},
   "outputs": [],
   "source": [
    "import nltk"
   ]
  },
  {
   "cell_type": "code",
   "execution_count": 4,
   "id": "5f790c3d",
   "metadata": {},
   "outputs": [],
   "source": [
    "# Step 2: Data Preprocessing\n",
    "# Now, let's preprocess the data by removing HTML tags, punctuation, special characters, \n",
    "# converting text to lowercase, and removing stopwords."
   ]
  },
  {
   "cell_type": "code",
   "execution_count": 5,
   "id": "8aa3e3cc",
   "metadata": {},
   "outputs": [
    {
     "name": "stdout",
     "output_type": "stream",
     "text": [
      "example review contains stopwords special characters\n"
     ]
    }
   ],
   "source": [
    "from nltk.corpus import movie_reviews\n",
    "from nltk.tokenize import word_tokenize\n",
    "from nltk.corpus import stopwords\n",
    "from bs4 import BeautifulSoup\n",
    "import string\n",
    "\n",
    "# Preprocessing function\n",
    "def preprocess_text(text):\n",
    "    # Remove HTML tags\n",
    "    text = BeautifulSoup(text, 'html.parser').get_text()\n",
    "    \n",
    "    # Remove punctuation and special characters\n",
    "    text = text.translate(str.maketrans('', '', string.punctuation))\n",
    "    \n",
    "    # Convert text to lowercase\n",
    "    text = text.lower()\n",
    "    \n",
    "    # Tokenize the text\n",
    "    tokens = word_tokenize(text)\n",
    "    \n",
    "    # Remove stopwords\n",
    "    stop_words = set(stopwords.words('english'))\n",
    "    filtered_tokens = [token for token in tokens if token not in stop_words]\n",
    "    \n",
    "    # Return preprocessed text as a string\n",
    "    return ' '.join(filtered_tokens)\n",
    "\n",
    "# Example usage\n",
    "preprocessed_text = preprocess_text(\"This is an example review! It contains stopwords and special characters.\")\n",
    "print(preprocessed_text)\n"
   ]
  },
  {
   "cell_type": "code",
   "execution_count": 6,
   "id": "77d93a0e",
   "metadata": {},
   "outputs": [],
   "source": [
    "# Step 3: Exploratory Data Analysis\n",
    "# Let's calculate basic statistics, analyze the distribution of review lengths, \n",
    "# and explore the most common words or phrases in positive and negative reviews."
   ]
  },
  {
   "cell_type": "code",
   "execution_count": 7,
   "id": "45791b8a",
   "metadata": {},
   "outputs": [
    {
     "name": "stdout",
     "output_type": "stream",
     "text": [
      "Number of reviews: 2000\n",
      "Number of positive reviews: 1000\n",
      "Number of negative reviews: 1000\n"
     ]
    },
    {
     "data": {
      "image/png": "[encoded data removed]",
      "text/plain": [
       "<Figure size 432x288 with 1 Axes>"
      ]
     },
     "metadata": {
      "needs_background": "light"
     },
     "output_type": "display_data"
    },
    {
     "name": "stdout",
     "output_type": "stream",
     "text": [
      "Most common positive words: [(',', 42448), ('the', 41471), ('.', 33714), ('a', 20196), ('and', 19896), ('of', 18636), ('to', 16517), (\"'\", 15268), ('is', 14059), ('in', 11725), ('s', 9659), ('\"', 8492), ('it', 8351), ('that', 8121), ('-', 7931), ('as', 6478), (')', 6039), ('(', 6014), ('with', 5851), ('his', 5588), ('for', 5260), ('film', 5230), ('he', 4936), ('this', 4648), ('but', 4492), ('i', 4102), ('on', 3727), ('are', 3713), ('by', 3466), ('who', 3057), ('an', 3052), ('one', 3052), ('be', 3029), ('not', 2926), ('t', 2855), ('from', 2731), ('you', 2594), ('has', 2564), ('movie', 2525), ('at', 2495), ('was', 2477), ('her', 2456), ('they', 2332), ('have', 2240), ('all', 2183), ('more', 1841), ('like', 1802), ('out', 1802), ('which', 1743), ('there', 1726)]\n",
      "Most common negative words: [(',', 35269), ('the', 35058), ('.', 32162), ('a', 17910), ('and', 15680), ('of', 15487), ('to', 15420), (\"'\", 15317), ('is', 11136), ('in', 10097), ('\"', 9120), ('s', 8854), ('that', 7803), ('it', 7756), ('-', 7664), (')', 5742), ('(', 5650), ('with', 4941), ('this', 4930), ('as', 4900), ('i', 4787), ('for', 4701), ('film', 4287), ('but', 4142), ('his', 3999), ('he', 3928), ('on', 3658), ('t', 3555), ('movie', 3246), ('are', 3236), ('be', 3145), ('one', 2800), ('by', 2795), ('you', 2722), ('an', 2692), ('have', 2661), ('not', 2651), ('who', 2635), ('they', 2493), ('at', 2491), ('was', 2463), ('from', 2268), ('?', 2201), ('all', 2190), ('has', 2155), ('her', 2066), ('there', 2044), ('so', 1975), ('like', 1888), ('out', 1835)]\n"
     ]
    }
   ],
   "source": [
    "import matplotlib.pyplot as plt\n",
    "\n",
    "# Calculate basic statistics\n",
    "num_reviews = len(movie_reviews.fileids())\n",
    "num_positive_reviews = len(movie_reviews.fileids(categories='pos'))\n",
    "num_negative_reviews = len(movie_reviews.fileids(categories='neg'))\n",
    "\n",
    "print(\"Number of reviews:\", num_reviews)\n",
    "print(\"Number of positive reviews:\", num_positive_reviews)\n",
    "print(\"Number of negative reviews:\", num_negative_reviews)\n",
    "\n",
    "# Analyze review lengths\n",
    "review_lengths = [len(movie_reviews.words(fileid)) for fileid in movie_reviews.fileids()]\n",
    "plt.hist(review_lengths, bins=50)\n",
    "plt.xlabel(\"Review Length\")\n",
    "plt.ylabel(\"Frequency\")\n",
    "plt.title(\"Distribution of Review Lengths\")\n",
    "plt.show()\n",
    "\n",
    "# Explore most common words in positive reviews\n",
    "positive_words = movie_reviews.words(categories='pos')\n",
    "positive_freq_dist = nltk.FreqDist(positive_words)\n",
    "print(\"Most common positive words:\", positive_freq_dist.most_common(50))\n",
    "\n",
    "# Explore most common words in negative reviews\n",
    "negative_words = movie_reviews.words(categories='neg')\n",
    "negative_freq_dist = nltk.FreqDist(negative_words)\n",
    "print(\"Most common negative words:\", negative_freq_dist.most_common(50))\n"
   ]
  },
  {
   "cell_type": "code",
   "execution_count": 8,
   "id": "c582e377",
   "metadata": {},
   "outputs": [],
   "source": [
    "# Step 4: Sentiment Analysis\n",
    "# Divide the dataset into training and testing sets. \n",
    "# Then, train a sentiment analysis model using a machine learning algorithm such as Naive Bayes."
   ]
  },
  {
   "cell_type": "code",
   "execution_count": 9,
   "id": "1e8c9a3b",
   "metadata": {},
   "outputs": [
    {
     "name": "stdout",
     "output_type": "stream",
     "text": [
      "Accuracy: 0.8\n"
     ]
    }
   ],
   "source": [
    "from sklearn.model_selection import train_test_split\n",
    "from sklearn.feature_extraction.text import TfidfVectorizer\n",
    "from sklearn.naive_bayes import MultinomialNB\n",
    "from sklearn.metrics import accuracy_score\n",
    "\n",
    "# Prepare data and labels\n",
    "documents = [(list(movie_reviews.words(fileid)), category) for category in movie_reviews.categories() for fileid in movie_reviews.fileids(category)]\n",
    "reviews = [preprocess_text(' '.join(document)) for document, _ in documents]\n",
    "labels = [label for _, label in documents]\n",
    "\n",
    "# Split data into training and testing sets\n",
    "X_train, X_test, y_train, y_test = train_test_split(reviews, labels, test_size=0.2, random_state=42)\n",
    "\n",
    "# Convert text to TF-IDF features\n",
    "vectorizer = TfidfVectorizer()\n",
    "X_train_tfidf = vectorizer.fit_transform(X_train)\n",
    "X_test_tfidf = vectorizer.transform(X_test)\n",
    "\n",
    "# Train a Naive Bayes classifier\n",
    "nb_classifier = MultinomialNB()\n",
    "nb_classifier.fit(X_train_tfidf, y_train)\n",
    "\n",
    "# Predict on the test set\n",
    "y_pred = nb_classifier.predict(X_test_tfidf)\n",
    "\n",
    "# Calculate accuracy\n",
    "accuracy = accuracy_score(y_test, y_pred)\n",
    "print(\"Accuracy:\", accuracy)\n"
   ]
  },
  {
   "cell_type": "code",
   "execution_count": 10,
   "id": "f37797cf",
   "metadata": {},
   "outputs": [],
   "source": [
    "# Step 5: Visualization\n",
    "# Visualize the performance of the sentiment analysis model using a confusion matrix."
   ]
  },
  {
   "cell_type": "code",
   "execution_count": 11,
   "id": "b928b8f2",
   "metadata": {},
   "outputs": [
    {
     "data": {
      "image/png": "[encoded data removed]",
      "text/plain": [
       "<Figure size 432x288 with 2 Axes>"
      ]
     },
     "metadata": {
      "needs_background": "light"
     },
     "output_type": "display_data"
    }
   ],
   "source": [
    "from sklearn.metrics import confusion_matrix\n",
    "import seaborn as sns\n",
    "\n",
    "# Create a confusion matrix\n",
    "cm = confusion_matrix(y_test, y_pred)\n",
    "\n",
    "# Plot the confusion matrix\n",
    "sns.heatmap(cm, annot=True, fmt=\"d\", cmap=\"Blues\")\n",
    "plt.xlabel(\"Predicted Label\")\n",
    "plt.ylabel(\"True Label\")\n",
    "plt.title(\"Confusion Matrix\")\n",
    "plt.show()\n"
   ]
  }
 ],
 "metadata": {
  "kernelspec": {
   "display_name": "Python 3 (ipykernel)",
   "language": "python",
   "name": "python3"
  },
  "language_info": {
   "codemirror_mode": {
    "name": "ipython",
    "version": 3
   },
   "file_extension": ".py",
   "mimetype": "text/x-python",
   "name": "python",
   "nbconvert_exporter": "python",
   "pygments_lexer": "ipython3",
   "version": "3.9.7"
  }
 },
 "nbformat": 4,
 "nbformat_minor": 5
}
